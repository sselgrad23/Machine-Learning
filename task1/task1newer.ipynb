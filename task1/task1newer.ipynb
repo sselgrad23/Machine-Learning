{
 "cells": [
  {
   "cell_type": "markdown",
   "id": "1e56c71f-655a-44b9-be89-f2eaa2682da6",
   "metadata": {},
   "source": [
    "## Load libraries\n"
   ]
  },
  {
   "cell_type": "code",
   "execution_count": 20,
   "id": "60a94525-6c27-424d-86f5-806fe267e0ed",
   "metadata": {},
   "outputs": [
    {
     "name": "stdout",
     "output_type": "stream",
     "text": [
      "(1181, 832) (1181, 1)\n"
     ]
    }
   ],
   "source": [
    "import pandas as pd\n",
    "import numpy as np\n",
    "import os\n",
    "import random\n",
    "import sklearn\n",
    "from sklearn.impute import SimpleImputer\n",
    "import seaborn as sb\n",
    "from scipy import stats\n",
    "from sklearn.ensemble import IsolationForest\n",
    "from matplotlib import pyplot as plt\n",
    "from sklearn.linear_model import LinearRegression, Ridge, Lasso\n",
    "from sklearn.ensemble import RandomForestRegressor\n",
    "from sklearn.tree import DecisionTreeRegressor\n",
    "from sklearn.preprocessing import PolynomialFeatures\n",
    "from sklearn.impute import KNNImputer\n",
    "from sklearn.impute import SimpleImputer\n",
    "from sklearn.datasets import dump_svmlight_file\n",
    "from xgboost import XGBRegressor\n",
    "from sklearn.feature_selection import SelectKBest, f_regression\n",
    "from sklearn.feature_selection import VarianceThreshold\n",
    "import pandas as pd\n",
    "from sklearn.metrics import r2_score\n",
    "from sklearn.model_selection import train_test_split\n",
    "from sklearn.feature_selection import SelectKBest, f_regression, mutual_info_regression, SelectFromModel\n",
    "from sklearn.ensemble import ExtraTreesRegressor\n",
    "from scipy.stats import pearsonr\n",
    "import lightgbm as lgb\n",
    "\n",
    "\n",
    "\n",
    "X = pd.read_csv(os.path.join(\"data\", \"X_train.csv\"),\n",
    "                delimiter=',',\n",
    "                index_col = 'id')\n",
    "y = pd.read_csv(os.path.join(\"data\", \"y_train.csv\"),\n",
    "                delimiter=',',\n",
    "                index_col='id')\n",
    "\n",
    "\n",
    "\n",
    "nan_idx = np.isnan(X)\n",
    "#print(nan_idx)\n",
    "imputer = KNNImputer(n_neighbors=20)\n",
    "X_imp = imputer.fit_transform(X)\n",
    "#print(np.isnan(X_imp))\n",
    "\n",
    "model = sklearn.ensemble.IsolationForest(max_samples=0.5, contamination=0.025)\n",
    "# model = sklearn.neighbors.LocalOutlierFactor(contamination=0.025)\n",
    "outl_pred = model.fit_predict(X_imp)\n",
    "mask = outl_pred != -1\n",
    "\n",
    "\n",
    "X_cleaned = np.copy(X_imp)\n",
    "y_cleaned = np.copy(y.values)\n",
    "X_cleaned, y_cleaned = X_cleaned[mask, :], y_cleaned[mask]\n",
    "print(X_cleaned.shape, y_cleaned.shape)\n",
    "y_train = y_cleaned\n"
   ]
  },
  {
   "cell_type": "code",
   "execution_count": 21,
   "id": "3a48b914-ec2f-49a9-9316-d23dc8438375",
   "metadata": {},
   "outputs": [
    {
     "ename": "TypeError",
     "evalue": "ufunc 'isnan' not supported for the input types, and the inputs could not be safely coerced to any supported types according to the casting rule ''safe''",
     "output_type": "error",
     "traceback": [
      "\u001b[0;31m---------------------------------------------------------------------------\u001b[0m",
      "\u001b[0;31mTypeError\u001b[0m                                 Traceback (most recent call last)",
      "\u001b[1;32m/home/sophiesd/AML/task1/task1newer.ipynb Cell 3\u001b[0m line \u001b[0;36m1\n\u001b[1;32m      <a href='vscode-notebook-cell://wsl%2Bubuntu-20.04/home/sophiesd/AML/task1/task1newer.ipynb#W2sdnNjb2RlLXJlbW90ZQ%3D%3D?line=7'>8</a>\u001b[0m     x_f \u001b[39m=\u001b[39m df_train[[f]][f]\u001b[39m.\u001b[39mvalues\n\u001b[1;32m      <a href='vscode-notebook-cell://wsl%2Bubuntu-20.04/home/sophiesd/AML/task1/task1newer.ipynb#W2sdnNjb2RlLXJlbW90ZQ%3D%3D?line=8'>9</a>\u001b[0m     key \u001b[39m=\u001b[39m f\n\u001b[0;32m---> <a href='vscode-notebook-cell://wsl%2Bubuntu-20.04/home/sophiesd/AML/task1/task1newer.ipynb#W2sdnNjb2RlLXJlbW90ZQ%3D%3D?line=9'>10</a>\u001b[0m     corr[key] \u001b[39m=\u001b[39m pearsonr(x_f,y_cleaned)[\u001b[39m0\u001b[39m]\n\u001b[1;32m     <a href='vscode-notebook-cell://wsl%2Bubuntu-20.04/home/sophiesd/AML/task1/task1newer.ipynb#W2sdnNjb2RlLXJlbW90ZQ%3D%3D?line=11'>12</a>\u001b[0m data_corr \u001b[39m=\u001b[39m pd\u001b[39m.\u001b[39mDataFrame(corr, index\u001b[39m=\u001b[39m[\u001b[39m'\u001b[39m\u001b[39mlin\u001b[39m\u001b[39m'\u001b[39m])\u001b[39m.\u001b[39mT\n\u001b[1;32m     <a href='vscode-notebook-cell://wsl%2Bubuntu-20.04/home/sophiesd/AML/task1/task1newer.ipynb#W2sdnNjb2RlLXJlbW90ZQ%3D%3D?line=12'>13</a>\u001b[0m selected_feat \u001b[39m=\u001b[39m data_corr\u001b[39m.\u001b[39mloc[(\u001b[39mabs\u001b[39m(data_corr[\u001b[39m'\u001b[39m\u001b[39mlin\u001b[39m\u001b[39m'\u001b[39m]) \u001b[39m>\u001b[39m\u001b[39m=\u001b[39m thresh_corr) ]\u001b[39m.\u001b[39mindex\n",
      "File \u001b[0;32m/home/linuxbrew/.linuxbrew/Cellar/python@3.11/3.11.5/lib/python3.11/site-packages/scipy/stats/_stats_py.py:4860\u001b[0m, in \u001b[0;36mpearsonr\u001b[0;34m(x, y, alternative, method)\u001b[0m\n\u001b[1;32m   4858\u001b[0m dist \u001b[39m=\u001b[39m stats\u001b[39m.\u001b[39mbeta(ab, ab, loc\u001b[39m=\u001b[39m\u001b[39m-\u001b[39m\u001b[39m1\u001b[39m, scale\u001b[39m=\u001b[39m\u001b[39m2\u001b[39m)\n\u001b[1;32m   4859\u001b[0m \u001b[39mif\u001b[39;00m alternative \u001b[39m==\u001b[39m \u001b[39m'\u001b[39m\u001b[39mtwo-sided\u001b[39m\u001b[39m'\u001b[39m:\n\u001b[0;32m-> 4860\u001b[0m     prob \u001b[39m=\u001b[39m \u001b[39m2\u001b[39m\u001b[39m*\u001b[39mdist\u001b[39m.\u001b[39;49msf(\u001b[39mabs\u001b[39;49m(r))\n\u001b[1;32m   4861\u001b[0m \u001b[39melif\u001b[39;00m alternative \u001b[39m==\u001b[39m \u001b[39m'\u001b[39m\u001b[39mless\u001b[39m\u001b[39m'\u001b[39m:\n\u001b[1;32m   4862\u001b[0m     prob \u001b[39m=\u001b[39m dist\u001b[39m.\u001b[39mcdf(r)\n",
      "File \u001b[0;32m/home/linuxbrew/.linuxbrew/Cellar/python@3.11/3.11.5/lib/python3.11/site-packages/scipy/stats/_distn_infrastructure.py:494\u001b[0m, in \u001b[0;36mrv_frozen.sf\u001b[0;34m(self, x)\u001b[0m\n\u001b[1;32m    493\u001b[0m \u001b[39mdef\u001b[39;00m \u001b[39msf\u001b[39m(\u001b[39mself\u001b[39m, x):\n\u001b[0;32m--> 494\u001b[0m     \u001b[39mreturn\u001b[39;00m \u001b[39mself\u001b[39;49m\u001b[39m.\u001b[39;49mdist\u001b[39m.\u001b[39;49msf(x, \u001b[39m*\u001b[39;49m\u001b[39mself\u001b[39;49m\u001b[39m.\u001b[39;49margs, \u001b[39m*\u001b[39;49m\u001b[39m*\u001b[39;49m\u001b[39mself\u001b[39;49m\u001b[39m.\u001b[39;49mkwds)\n",
      "File \u001b[0;32m/home/linuxbrew/.linuxbrew/Cellar/python@3.11/3.11.5/lib/python3.11/site-packages/scipy/stats/_distn_infrastructure.py:2155\u001b[0m, in \u001b[0;36mrv_continuous.sf\u001b[0;34m(self, x, *args, **kwds)\u001b[0m\n\u001b[1;32m   2153\u001b[0m cond \u001b[39m=\u001b[39m cond0 \u001b[39m&\u001b[39m cond1\n\u001b[1;32m   2154\u001b[0m output \u001b[39m=\u001b[39m zeros(shape(cond), dtyp)\n\u001b[0;32m-> 2155\u001b[0m place(output, (\u001b[39m1\u001b[39m\u001b[39m-\u001b[39mcond0)\u001b[39m+\u001b[39mnp\u001b[39m.\u001b[39;49misnan(x), \u001b[39mself\u001b[39m\u001b[39m.\u001b[39mbadvalue)\n\u001b[1;32m   2156\u001b[0m place(output, cond2, \u001b[39m1.0\u001b[39m)\n\u001b[1;32m   2157\u001b[0m \u001b[39mif\u001b[39;00m np\u001b[39m.\u001b[39many(cond):\n",
      "\u001b[0;31mTypeError\u001b[0m: ufunc 'isnan' not supported for the input types, and the inputs could not be safely coerced to any supported types according to the casting rule ''safe''"
     ]
    }
   ],
   "source": [
    "thresh_corr = 0.1\n",
    "\n",
    "df_train = pd.DataFrame(X_cleaned, columns=X.columns)\n",
    "#print(df_train)\n",
    "feat = df_train.iloc[:,1:].columns.tolist()\n",
    "corr = {}\n",
    "for f in feat:\n",
    "    x_f = df_train[[f]][f].values\n",
    "    key = f\n",
    "    corr[key] = pearsonr(x_f,y_cleaned)[0]\n",
    "\n",
    "data_corr = pd.DataFrame(corr, index=['lin']).T\n",
    "selected_feat = data_corr.loc[(abs(data_corr['lin']) >= thresh_corr) ].index\n",
    "selected_feat\n"
   ]
  },
  {
   "cell_type": "code",
   "execution_count": 10,
   "id": "58a2b52a-3cd5-4eb0-aaa2-56b535f9fd74",
   "metadata": {},
   "outputs": [
    {
     "ename": "NameError",
     "evalue": "name 'selected_feat' is not defined",
     "output_type": "error",
     "traceback": [
      "\u001b[0;31m---------------------------------------------------------------------------\u001b[0m",
      "\u001b[0;31mNameError\u001b[0m                                 Traceback (most recent call last)",
      "\u001b[1;32m/home/sophiesd/AML/task1/task1newer.ipynb Cell 4\u001b[0m line \u001b[0;36m5\n\u001b[1;32m      <a href='vscode-notebook-cell://wsl%2Bubuntu-20.04/home/sophiesd/AML/task1/task1newer.ipynb#W3sdnNjb2RlLXJlbW90ZQ%3D%3D?line=2'>3</a>\u001b[0m X_train \u001b[39m=\u001b[39m sklearn\u001b[39m.\u001b[39mpreprocessing\u001b[39m.\u001b[39mStandardScaler()\u001b[39m.\u001b[39mfit(X_cleaned)\u001b[39m.\u001b[39mtransform(X_train)\n\u001b[1;32m      <a href='vscode-notebook-cell://wsl%2Bubuntu-20.04/home/sophiesd/AML/task1/task1newer.ipynb#W3sdnNjb2RlLXJlbW90ZQ%3D%3D?line=3'>4</a>\u001b[0m X_train  \u001b[39m=\u001b[39m pd\u001b[39m.\u001b[39mDataFrame(X_train, columns\u001b[39m=\u001b[39mX\u001b[39m.\u001b[39mcolumns)\n\u001b[0;32m----> <a href='vscode-notebook-cell://wsl%2Bubuntu-20.04/home/sophiesd/AML/task1/task1newer.ipynb#W3sdnNjb2RlLXJlbW90ZQ%3D%3D?line=4'>5</a>\u001b[0m X_train \u001b[39m=\u001b[39m X_train[selected_feat]\u001b[39m.\u001b[39mvalues\n",
      "\u001b[0;31mNameError\u001b[0m: name 'selected_feat' is not defined"
     ]
    }
   ],
   "source": [
    "X_train = X_cleaned\n",
    "\n",
    "X_train = sklearn.preprocessing.StandardScaler().fit(X_cleaned).transform(X_train)\n",
    "X_train  = pd.DataFrame(X_train, columns=X.columns)\n",
    "X_train = X_train[selected_feat].values"
   ]
  },
  {
   "cell_type": "code",
   "execution_count": null,
   "id": "c222e44d-c269-48f1-8e0f-dac46d83e4ef",
   "metadata": {},
   "outputs": [],
   "source": [
    "X_test = pd.read_csv(os.path.join(\"data\", \"X_test.csv\"),\n",
    "                         delimiter=',',\n",
    "                         index_col='id')\n",
    "\n",
    "X_test_KNN = imputer.fit(X_cleaned).transform(X_test)\n",
    "X_test = pd.DataFrame(X_test_KNN, columns=X_test.columns, index=X_test.index)\n",
    "# X_test = X_test[selected_feat]\n",
    "X_test_stdised = sklearn.preprocessing.StandardScaler().fit(X_cleaned).transform(X_test)\n"
   ]
  },
  {
   "cell_type": "code",
   "execution_count": null,
   "id": "fecad3a0-ff44-4701-831e-077f03f2727f",
   "metadata": {},
   "outputs": [],
   "source": [
    "X_test_stdised = pd.DataFrame(X_test_stdised, columns=X_test.columns, index=X_test.index)\n",
    "X_test_stdised = X_test_stdised[selected_feat].values"
   ]
  },
  {
   "cell_type": "code",
   "execution_count": null,
   "id": "177b12bb-6244-492a-99ac-671788ed60e7",
   "metadata": {
    "scrolled": true,
    "tags": []
   },
   "outputs": [],
   "source": [
    "def r2_sc(preds, train_data):\n",
    "    labels = train_data.get_label()\n",
    "    return 'r2', r2_score(labels, preds), True\n",
    "\n",
    "best = 0\n",
    "trial_itr = 100\n",
    "for i in range(trial_itr):\n",
    "    print(f\"train itr {i}\")\n",
    "    X_train_split, X_val_split, y_train_split, y_val_split = train_test_split(X_train, y_train, test_size = 0.15) \n",
    "    \n",
    "    lgb_train = lgb.Dataset(X_train_split, y_train_split)\n",
    "    \n",
    "    \n",
    "    lgb_eval = lgb.Dataset(X_val_split, y_val_split, reference=lgb_train)\n",
    "\n",
    "\n",
    "    params = {\n",
    "        'task': 'train',\n",
    "        'boosting_type': 'gbdt',\n",
    "        'objective': 'regression',\n",
    "        'num_leaves': 32,\n",
    "        'learning_rate': 0.05,\n",
    "        'feature_fraction': 0.5,\n",
    "        'bagging_fraction': 0.8,\n",
    "        'bagging_freq': 5,\n",
    "        'verbose': 0\n",
    "    }\n",
    "\n",
    "\n",
    "\n",
    "    model = lgb.train(params,\n",
    "                    lgb_train,\n",
    "                    num_boost_round=1000,\n",
    "                    feval=r2_sc,\n",
    "                    valid_sets={lgb_train, lgb_eval},\n",
    "                     early_stopping_rounds=100)\n",
    "    y_val_predict = model.predict(X_val_split, num_iteration=model.best_iteration)\n",
    "        \n",
    "    \n",
    "    \n",
    "    res = r2_score(y_val_split, y_val_predict)\n",
    "    \n",
    "    print(res)\n",
    "    if res > best:\n",
    "        print(f\"New Best result {res}\")\n",
    "        best = res\n",
    "        y_pred = model.predict(X_test_stdised, num_iteration=model.best_iteration)\n",
    "        f = open(f\"out{best}.csv\", \"w\")\n",
    "        f.write(\"id,y\\n\")\n",
    "        for i,x in enumerate(y_pred):\n",
    "            f.write(\"{},{}\\n\".format(i,x))\n",
    "        f.close()"
   ]
  },
  {
   "cell_type": "code",
   "execution_count": null,
   "id": "1a3fed8f-1203-407f-bcac-719026ced2af",
   "metadata": {},
   "outputs": [],
   "source": [
    "import glob\n",
    "print(glob.glob(\"./test/*\"))"
   ]
  },
  {
   "cell_type": "code",
   "execution_count": null,
   "id": "634935b9-0973-4836-b57a-308eb5a81f7e",
   "metadata": {},
   "outputs": [],
   "source": [
    "inputs = glob.glob(\"./ensemble/*\")\n",
    "print(inputs)\n",
    "res = [0.0]*776\n",
    "\n",
    "for f in inputs:\n",
    "    f = open(f).readlines()[1:]\n",
    "    for l in f:\n",
    "        sp = l.split(',')\n",
    "        idx, s = int(sp[0]), float(sp[1])\n",
    "        res[idx] += s\n",
    "out = open(\"./ensemble_debug.csv\", \"w\")\n",
    "out.write(\"id,y\\n\")\n",
    "for i in range(776):\n",
    "    out.write(\"{},{}\\n\".format(i, (res[i]/len(inputs))))\n",
    "out.close()"
   ]
  }
 ],
 "metadata": {
  "kernelspec": {
   "display_name": "Python 3 (ipykernel)",
   "language": "python",
   "name": "python3"
  },
  "language_info": {
   "codemirror_mode": {
    "name": "ipython",
    "version": 3
   },
   "file_extension": ".py",
   "mimetype": "text/x-python",
   "name": "python",
   "nbconvert_exporter": "python",
   "pygments_lexer": "ipython3",
   "version": "3.11.5"
  }
 },
 "nbformat": 4,
 "nbformat_minor": 5
}
