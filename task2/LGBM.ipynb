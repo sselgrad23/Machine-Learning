{
 "cells": [
  {
   "cell_type": "code",
   "execution_count": 1,
   "id": "387fcf8f",
   "metadata": {},
   "outputs": [
    {
     "name": "stdout",
     "output_type": "stream",
     "text": [
      "Requirement already satisfied: nevergrad in /Users/youssefraoui/miniconda3/envs/Test/lib/python3.8/site-packages (0.13.0)\n",
      "Requirement already satisfied: numpy>=1.24.0 in /Users/youssefraoui/miniconda3/envs/Test/lib/python3.8/site-packages (from nevergrad) (1.24.3)\n",
      "Requirement already satisfied: cma>=2.6.0 in /Users/youssefraoui/miniconda3/envs/Test/lib/python3.8/site-packages (from nevergrad) (3.3.0)\n",
      "Requirement already satisfied: bayesian-optimization>=1.2.0 in /Users/youssefraoui/miniconda3/envs/Test/lib/python3.8/site-packages (from nevergrad) (1.4.3)\n",
      "Requirement already satisfied: typing-extensions>=3.6.6 in /Users/youssefraoui/miniconda3/envs/Test/lib/python3.8/site-packages (from nevergrad) (4.7.1)\n",
      "Requirement already satisfied: pandas in /Users/youssefraoui/miniconda3/envs/Test/lib/python3.8/site-packages (from nevergrad) (2.0.3)\n",
      "Requirement already satisfied: scipy>=1.0.0 in /Users/youssefraoui/miniconda3/envs/Test/lib/python3.8/site-packages (from bayesian-optimization>=1.2.0->nevergrad) (1.10.1)\n",
      "Requirement already satisfied: scikit-learn>=0.18.0 in /Users/youssefraoui/miniconda3/envs/Test/lib/python3.8/site-packages (from bayesian-optimization>=1.2.0->nevergrad) (1.2.2)\n",
      "Requirement already satisfied: colorama>=0.4.6 in /Users/youssefraoui/miniconda3/envs/Test/lib/python3.8/site-packages (from bayesian-optimization>=1.2.0->nevergrad) (0.4.6)\n",
      "Requirement already satisfied: python-dateutil>=2.8.2 in /Users/youssefraoui/miniconda3/envs/Test/lib/python3.8/site-packages (from pandas->nevergrad) (2.8.2)\n",
      "Requirement already satisfied: pytz>=2020.1 in /Users/youssefraoui/miniconda3/envs/Test/lib/python3.8/site-packages (from pandas->nevergrad) (2023.3.post1)\n",
      "Requirement already satisfied: tzdata>=2022.1 in /Users/youssefraoui/miniconda3/envs/Test/lib/python3.8/site-packages (from pandas->nevergrad) (2023.3)\n",
      "Requirement already satisfied: six>=1.5 in /Users/youssefraoui/miniconda3/envs/Test/lib/python3.8/site-packages (from python-dateutil>=2.8.2->pandas->nevergrad) (1.16.0)\n",
      "Requirement already satisfied: joblib>=1.1.1 in /Users/youssefraoui/miniconda3/envs/Test/lib/python3.8/site-packages (from scikit-learn>=0.18.0->bayesian-optimization>=1.2.0->nevergrad) (1.2.0)\n",
      "Requirement already satisfied: threadpoolctl>=2.0.0 in /Users/youssefraoui/miniconda3/envs/Test/lib/python3.8/site-packages (from scikit-learn>=0.18.0->bayesian-optimization>=1.2.0->nevergrad) (2.2.0)\n",
      "Note: you may need to restart the kernel to use updated packages.\n"
     ]
    }
   ],
   "source": [
    "pip install nevergrad"
   ]
  },
  {
   "cell_type": "code",
   "execution_count": 1,
   "id": "a95bb5e9-24f7-4dc5-b3a5-b9d218e71946",
   "metadata": {},
   "outputs": [],
   "source": [
    "import numpy as np\n",
    "import pandas as pd\n",
    "from catboost import CatBoostClassifier\n",
    "import nevergrad as ng\n",
    "from sklearn.metrics import accuracy_score\n",
    "from sklearn.model_selection import train_test_split"
   ]
  },
  {
   "cell_type": "code",
   "execution_count": 2,
   "id": "a71f5e51-401d-4154-831c-2ac8617711ef",
   "metadata": {},
   "outputs": [],
   "source": [
    "df = pd.read_csv('x_train_preprocessed.csv', header=0)\n",
    "x_train_preprocessed = df.copy()\n",
    "x_train_preprocessed= np.array(x_train_preprocessed)"
   ]
  },
  {
   "cell_type": "code",
   "execution_count": 3,
   "id": "5af63cea",
   "metadata": {},
   "outputs": [],
   "source": [
    "y_train = pd.read_csv('y_train.csv', index_col=['id'])\n",
    "labels_raw = y_train.copy() # a copy of the raw labels\n",
    "labels_sorted = y_train.copy().sort_values(by = ['y']) # a copy of the raw labels sorted\n",
    "#labels_raw.head()"
   ]
  },
  {
   "cell_type": "code",
   "execution_count": 4,
   "id": "99002bc0",
   "metadata": {},
   "outputs": [],
   "source": [
    "xtest = pd.read_csv('x_test_preprocessed.csv')\n",
    "x_test_preprocessed = xtest.copy()\n"
   ]
  },
  {
   "cell_type": "code",
   "execution_count": 5,
   "id": "01fcb951",
   "metadata": {},
   "outputs": [],
   "source": [
    "data = np.array(df)\n",
    "l = np.array(y_train)\n",
    "labels = [l[i][0] for i in range(len(l))]\n"
   ]
  },
  {
   "cell_type": "code",
   "execution_count": 6,
   "id": "984f77cd",
   "metadata": {},
   "outputs": [
    {
     "name": "stderr",
     "output_type": "stream",
     "text": [
      "/home/linuxbrew/.linuxbrew/Cellar/python@3.11/3.11.5/lib/python3.11/site-packages/nevergrad/parametrization/_datalayers.py:195: RuntimeWarning: divide by zero encountered in log\n",
      "  return np.log(value) / np.log(self._base)\n",
      "/home/linuxbrew/.linuxbrew/Cellar/python@3.11/3.11.5/lib/python3.11/site-packages/nevergrad/parametrization/data.py:309: RuntimeWarning: invalid value encountered in subtract\n",
      "  return reference._to_reduced_space(self._value - reference._value)\n",
      "/home/linuxbrew/.linuxbrew/Cellar/python@3.11/3.11.5/lib/python3.11/site-packages/nevergrad/parametrization/data.py:309: RuntimeWarning: invalid value encountered in subtract\n",
      "  return reference._to_reduced_space(self._value - reference._value)\n",
      "/home/linuxbrew/.linuxbrew/Cellar/python@3.11/3.11.5/lib/python3.11/site-packages/nevergrad/parametrization/data.py:309: RuntimeWarning: invalid value encountered in subtract\n",
      "  return reference._to_reduced_space(self._value - reference._value)\n",
      "/home/linuxbrew/.linuxbrew/Cellar/python@3.11/3.11.5/lib/python3.11/site-packages/nevergrad/parametrization/data.py:309: RuntimeWarning: invalid value encountered in subtract\n",
      "  return reference._to_reduced_space(self._value - reference._value)\n",
      "/home/linuxbrew/.linuxbrew/Cellar/python@3.11/3.11.5/lib/python3.11/site-packages/nevergrad/parametrization/data.py:309: RuntimeWarning: invalid value encountered in subtract\n",
      "  return reference._to_reduced_space(self._value - reference._value)\n",
      "/home/linuxbrew/.linuxbrew/Cellar/python@3.11/3.11.5/lib/python3.11/site-packages/nevergrad/parametrization/data.py:309: RuntimeWarning: invalid value encountered in subtract\n",
      "  return reference._to_reduced_space(self._value - reference._value)\n",
      "/home/linuxbrew/.linuxbrew/Cellar/python@3.11/3.11.5/lib/python3.11/site-packages/nevergrad/parametrization/data.py:309: RuntimeWarning: invalid value encountered in subtract\n",
      "  return reference._to_reduced_space(self._value - reference._value)\n",
      "/home/linuxbrew/.linuxbrew/Cellar/python@3.11/3.11.5/lib/python3.11/site-packages/nevergrad/parametrization/data.py:309: RuntimeWarning: invalid value encountered in subtract\n",
      "  return reference._to_reduced_space(self._value - reference._value)\n",
      "/home/linuxbrew/.linuxbrew/Cellar/python@3.11/3.11.5/lib/python3.11/site-packages/nevergrad/parametrization/data.py:309: RuntimeWarning: invalid value encountered in subtract\n",
      "  return reference._to_reduced_space(self._value - reference._value)\n",
      "/home/linuxbrew/.linuxbrew/Cellar/python@3.11/3.11.5/lib/python3.11/site-packages/nevergrad/parametrization/data.py:309: RuntimeWarning: invalid value encountered in subtract\n",
      "  return reference._to_reduced_space(self._value - reference._value)\n",
      "/home/linuxbrew/.linuxbrew/Cellar/python@3.11/3.11.5/lib/python3.11/site-packages/nevergrad/parametrization/data.py:309: RuntimeWarning: invalid value encountered in subtract\n",
      "  return reference._to_reduced_space(self._value - reference._value)\n",
      "/home/linuxbrew/.linuxbrew/Cellar/python@3.11/3.11.5/lib/python3.11/site-packages/nevergrad/parametrization/data.py:309: RuntimeWarning: invalid value encountered in subtract\n",
      "  return reference._to_reduced_space(self._value - reference._value)\n",
      "/home/linuxbrew/.linuxbrew/Cellar/python@3.11/3.11.5/lib/python3.11/site-packages/nevergrad/parametrization/data.py:309: RuntimeWarning: invalid value encountered in subtract\n",
      "  return reference._to_reduced_space(self._value - reference._value)\n",
      "/home/linuxbrew/.linuxbrew/Cellar/python@3.11/3.11.5/lib/python3.11/site-packages/nevergrad/parametrization/data.py:309: RuntimeWarning: invalid value encountered in subtract\n",
      "  return reference._to_reduced_space(self._value - reference._value)\n",
      "/home/linuxbrew/.linuxbrew/Cellar/python@3.11/3.11.5/lib/python3.11/site-packages/nevergrad/parametrization/data.py:309: RuntimeWarning: invalid value encountered in subtract\n",
      "  return reference._to_reduced_space(self._value - reference._value)\n",
      "/home/linuxbrew/.linuxbrew/Cellar/python@3.11/3.11.5/lib/python3.11/site-packages/nevergrad/parametrization/data.py:309: RuntimeWarning: invalid value encountered in subtract\n",
      "  return reference._to_reduced_space(self._value - reference._value)\n",
      "/home/linuxbrew/.linuxbrew/Cellar/python@3.11/3.11.5/lib/python3.11/site-packages/nevergrad/parametrization/data.py:309: RuntimeWarning: invalid value encountered in subtract\n",
      "  return reference._to_reduced_space(self._value - reference._value)\n",
      "/home/linuxbrew/.linuxbrew/Cellar/python@3.11/3.11.5/lib/python3.11/site-packages/nevergrad/parametrization/data.py:309: RuntimeWarning: invalid value encountered in subtract\n",
      "  return reference._to_reduced_space(self._value - reference._value)\n",
      "/home/linuxbrew/.linuxbrew/Cellar/python@3.11/3.11.5/lib/python3.11/site-packages/nevergrad/parametrization/data.py:309: RuntimeWarning: invalid value encountered in subtract\n",
      "  return reference._to_reduced_space(self._value - reference._value)\n",
      "/home/linuxbrew/.linuxbrew/Cellar/python@3.11/3.11.5/lib/python3.11/site-packages/nevergrad/parametrization/data.py:309: RuntimeWarning: invalid value encountered in subtract\n",
      "  return reference._to_reduced_space(self._value - reference._value)\n",
      "/home/linuxbrew/.linuxbrew/Cellar/python@3.11/3.11.5/lib/python3.11/site-packages/nevergrad/parametrization/data.py:309: RuntimeWarning: invalid value encountered in subtract\n",
      "  return reference._to_reduced_space(self._value - reference._value)\n",
      "/home/linuxbrew/.linuxbrew/Cellar/python@3.11/3.11.5/lib/python3.11/site-packages/nevergrad/parametrization/data.py:309: RuntimeWarning: invalid value encountered in subtract\n",
      "  return reference._to_reduced_space(self._value - reference._value)\n",
      "/home/linuxbrew/.linuxbrew/Cellar/python@3.11/3.11.5/lib/python3.11/site-packages/nevergrad/parametrization/data.py:309: RuntimeWarning: invalid value encountered in subtract\n",
      "  return reference._to_reduced_space(self._value - reference._value)\n",
      "/home/linuxbrew/.linuxbrew/Cellar/python@3.11/3.11.5/lib/python3.11/site-packages/nevergrad/parametrization/data.py:309: RuntimeWarning: invalid value encountered in subtract\n",
      "  return reference._to_reduced_space(self._value - reference._value)\n",
      "/home/linuxbrew/.linuxbrew/Cellar/python@3.11/3.11.5/lib/python3.11/site-packages/nevergrad/parametrization/data.py:309: RuntimeWarning: invalid value encountered in subtract\n",
      "  return reference._to_reduced_space(self._value - reference._value)\n",
      "/home/linuxbrew/.linuxbrew/Cellar/python@3.11/3.11.5/lib/python3.11/site-packages/nevergrad/parametrization/data.py:309: RuntimeWarning: invalid value encountered in subtract\n",
      "  return reference._to_reduced_space(self._value - reference._value)\n",
      "/home/linuxbrew/.linuxbrew/Cellar/python@3.11/3.11.5/lib/python3.11/site-packages/nevergrad/parametrization/data.py:309: RuntimeWarning: invalid value encountered in subtract\n",
      "  return reference._to_reduced_space(self._value - reference._value)\n",
      "/home/linuxbrew/.linuxbrew/Cellar/python@3.11/3.11.5/lib/python3.11/site-packages/nevergrad/parametrization/data.py:309: RuntimeWarning: invalid value encountered in subtract\n",
      "  return reference._to_reduced_space(self._value - reference._value)\n",
      "/home/linuxbrew/.linuxbrew/Cellar/python@3.11/3.11.5/lib/python3.11/site-packages/nevergrad/parametrization/data.py:309: RuntimeWarning: invalid value encountered in subtract\n",
      "  return reference._to_reduced_space(self._value - reference._value)\n",
      "/home/linuxbrew/.linuxbrew/Cellar/python@3.11/3.11.5/lib/python3.11/site-packages/nevergrad/parametrization/data.py:309: RuntimeWarning: invalid value encountered in subtract\n",
      "  return reference._to_reduced_space(self._value - reference._value)\n",
      "/home/linuxbrew/.linuxbrew/Cellar/python@3.11/3.11.5/lib/python3.11/site-packages/nevergrad/parametrization/data.py:309: RuntimeWarning: invalid value encountered in subtract\n",
      "  return reference._to_reduced_space(self._value - reference._value)\n",
      "/home/linuxbrew/.linuxbrew/Cellar/python@3.11/3.11.5/lib/python3.11/site-packages/nevergrad/parametrization/data.py:309: RuntimeWarning: invalid value encountered in subtract\n",
      "  return reference._to_reduced_space(self._value - reference._value)\n",
      "/home/linuxbrew/.linuxbrew/Cellar/python@3.11/3.11.5/lib/python3.11/site-packages/nevergrad/parametrization/data.py:309: RuntimeWarning: invalid value encountered in subtract\n",
      "  return reference._to_reduced_space(self._value - reference._value)\n",
      "/home/linuxbrew/.linuxbrew/Cellar/python@3.11/3.11.5/lib/python3.11/site-packages/nevergrad/parametrization/data.py:309: RuntimeWarning: invalid value encountered in subtract\n",
      "  return reference._to_reduced_space(self._value - reference._value)\n",
      "/home/linuxbrew/.linuxbrew/Cellar/python@3.11/3.11.5/lib/python3.11/site-packages/nevergrad/parametrization/data.py:309: RuntimeWarning: invalid value encountered in subtract\n",
      "  return reference._to_reduced_space(self._value - reference._value)\n",
      "/home/linuxbrew/.linuxbrew/Cellar/python@3.11/3.11.5/lib/python3.11/site-packages/nevergrad/parametrization/data.py:309: RuntimeWarning: invalid value encountered in subtract\n",
      "  return reference._to_reduced_space(self._value - reference._value)\n",
      "/home/linuxbrew/.linuxbrew/Cellar/python@3.11/3.11.5/lib/python3.11/site-packages/nevergrad/parametrization/data.py:309: RuntimeWarning: invalid value encountered in subtract\n",
      "  return reference._to_reduced_space(self._value - reference._value)\n",
      "/home/linuxbrew/.linuxbrew/Cellar/python@3.11/3.11.5/lib/python3.11/site-packages/nevergrad/parametrization/data.py:309: RuntimeWarning: invalid value encountered in subtract\n",
      "  return reference._to_reduced_space(self._value - reference._value)\n",
      "/home/linuxbrew/.linuxbrew/Cellar/python@3.11/3.11.5/lib/python3.11/site-packages/nevergrad/parametrization/data.py:309: RuntimeWarning: invalid value encountered in subtract\n",
      "  return reference._to_reduced_space(self._value - reference._value)\n",
      "/home/linuxbrew/.linuxbrew/Cellar/python@3.11/3.11.5/lib/python3.11/site-packages/nevergrad/parametrization/data.py:309: RuntimeWarning: invalid value encountered in subtract\n",
      "  return reference._to_reduced_space(self._value - reference._value)\n",
      "/home/linuxbrew/.linuxbrew/Cellar/python@3.11/3.11.5/lib/python3.11/site-packages/nevergrad/parametrization/data.py:309: RuntimeWarning: invalid value encountered in subtract\n",
      "  return reference._to_reduced_space(self._value - reference._value)\n",
      "/home/linuxbrew/.linuxbrew/Cellar/python@3.11/3.11.5/lib/python3.11/site-packages/nevergrad/parametrization/data.py:309: RuntimeWarning: invalid value encountered in subtract\n",
      "  return reference._to_reduced_space(self._value - reference._value)\n",
      "/home/linuxbrew/.linuxbrew/Cellar/python@3.11/3.11.5/lib/python3.11/site-packages/nevergrad/parametrization/data.py:309: RuntimeWarning: invalid value encountered in subtract\n",
      "  return reference._to_reduced_space(self._value - reference._value)\n",
      "/home/linuxbrew/.linuxbrew/Cellar/python@3.11/3.11.5/lib/python3.11/site-packages/nevergrad/parametrization/data.py:309: RuntimeWarning: invalid value encountered in subtract\n",
      "  return reference._to_reduced_space(self._value - reference._value)\n",
      "/home/linuxbrew/.linuxbrew/Cellar/python@3.11/3.11.5/lib/python3.11/site-packages/nevergrad/parametrization/data.py:309: RuntimeWarning: invalid value encountered in subtract\n",
      "  return reference._to_reduced_space(self._value - reference._value)\n",
      "/home/linuxbrew/.linuxbrew/Cellar/python@3.11/3.11.5/lib/python3.11/site-packages/nevergrad/parametrization/data.py:309: RuntimeWarning: invalid value encountered in subtract\n",
      "  return reference._to_reduced_space(self._value - reference._value)\n",
      "/home/linuxbrew/.linuxbrew/Cellar/python@3.11/3.11.5/lib/python3.11/site-packages/nevergrad/parametrization/data.py:309: RuntimeWarning: invalid value encountered in subtract\n",
      "  return reference._to_reduced_space(self._value - reference._value)\n",
      "/home/linuxbrew/.linuxbrew/Cellar/python@3.11/3.11.5/lib/python3.11/site-packages/nevergrad/parametrization/data.py:309: RuntimeWarning: invalid value encountered in subtract\n",
      "  return reference._to_reduced_space(self._value - reference._value)\n",
      "/home/linuxbrew/.linuxbrew/Cellar/python@3.11/3.11.5/lib/python3.11/site-packages/nevergrad/parametrization/data.py:309: RuntimeWarning: invalid value encountered in subtract\n",
      "  return reference._to_reduced_space(self._value - reference._value)\n",
      "/home/linuxbrew/.linuxbrew/Cellar/python@3.11/3.11.5/lib/python3.11/site-packages/nevergrad/parametrization/data.py:309: RuntimeWarning: invalid value encountered in subtract\n",
      "  return reference._to_reduced_space(self._value - reference._value)\n",
      "/home/linuxbrew/.linuxbrew/Cellar/python@3.11/3.11.5/lib/python3.11/site-packages/nevergrad/parametrization/data.py:309: RuntimeWarning: invalid value encountered in subtract\n",
      "  return reference._to_reduced_space(self._value - reference._value)\n",
      "/home/linuxbrew/.linuxbrew/Cellar/python@3.11/3.11.5/lib/python3.11/site-packages/nevergrad/parametrization/data.py:309: RuntimeWarning: invalid value encountered in subtract\n",
      "  return reference._to_reduced_space(self._value - reference._value)\n",
      "/home/linuxbrew/.linuxbrew/Cellar/python@3.11/3.11.5/lib/python3.11/site-packages/nevergrad/parametrization/data.py:309: RuntimeWarning: invalid value encountered in subtract\n",
      "  return reference._to_reduced_space(self._value - reference._value)\n",
      "/home/linuxbrew/.linuxbrew/Cellar/python@3.11/3.11.5/lib/python3.11/site-packages/nevergrad/parametrization/data.py:309: RuntimeWarning: invalid value encountered in subtract\n",
      "  return reference._to_reduced_space(self._value - reference._value)\n",
      "/home/linuxbrew/.linuxbrew/Cellar/python@3.11/3.11.5/lib/python3.11/site-packages/nevergrad/parametrization/data.py:309: RuntimeWarning: invalid value encountered in subtract\n",
      "  return reference._to_reduced_space(self._value - reference._value)\n",
      "/home/linuxbrew/.linuxbrew/Cellar/python@3.11/3.11.5/lib/python3.11/site-packages/nevergrad/parametrization/data.py:309: RuntimeWarning: invalid value encountered in subtract\n",
      "  return reference._to_reduced_space(self._value - reference._value)\n",
      "/home/linuxbrew/.linuxbrew/Cellar/python@3.11/3.11.5/lib/python3.11/site-packages/nevergrad/parametrization/data.py:309: RuntimeWarning: invalid value encountered in subtract\n",
      "  return reference._to_reduced_space(self._value - reference._value)\n",
      "/home/linuxbrew/.linuxbrew/Cellar/python@3.11/3.11.5/lib/python3.11/site-packages/nevergrad/parametrization/data.py:309: RuntimeWarning: invalid value encountered in subtract\n",
      "  return reference._to_reduced_space(self._value - reference._value)\n",
      "/home/linuxbrew/.linuxbrew/Cellar/python@3.11/3.11.5/lib/python3.11/site-packages/nevergrad/parametrization/data.py:309: RuntimeWarning: invalid value encountered in subtract\n",
      "  return reference._to_reduced_space(self._value - reference._value)\n",
      "/home/linuxbrew/.linuxbrew/Cellar/python@3.11/3.11.5/lib/python3.11/site-packages/nevergrad/parametrization/data.py:309: RuntimeWarning: invalid value encountered in subtract\n",
      "  return reference._to_reduced_space(self._value - reference._value)\n",
      "/home/linuxbrew/.linuxbrew/Cellar/python@3.11/3.11.5/lib/python3.11/site-packages/nevergrad/parametrization/data.py:309: RuntimeWarning: invalid value encountered in subtract\n",
      "  return reference._to_reduced_space(self._value - reference._value)\n",
      "/home/linuxbrew/.linuxbrew/Cellar/python@3.11/3.11.5/lib/python3.11/site-packages/nevergrad/parametrization/data.py:309: RuntimeWarning: invalid value encountered in subtract\n",
      "  return reference._to_reduced_space(self._value - reference._value)\n",
      "/home/linuxbrew/.linuxbrew/Cellar/python@3.11/3.11.5/lib/python3.11/site-packages/nevergrad/parametrization/data.py:309: RuntimeWarning: invalid value encountered in subtract\n",
      "  return reference._to_reduced_space(self._value - reference._value)\n",
      "/home/linuxbrew/.linuxbrew/Cellar/python@3.11/3.11.5/lib/python3.11/site-packages/nevergrad/parametrization/data.py:309: RuntimeWarning: invalid value encountered in subtract\n",
      "  return reference._to_reduced_space(self._value - reference._value)\n",
      "/home/linuxbrew/.linuxbrew/Cellar/python@3.11/3.11.5/lib/python3.11/site-packages/nevergrad/parametrization/data.py:309: RuntimeWarning: invalid value encountered in subtract\n",
      "  return reference._to_reduced_space(self._value - reference._value)\n",
      "/home/linuxbrew/.linuxbrew/Cellar/python@3.11/3.11.5/lib/python3.11/site-packages/nevergrad/parametrization/data.py:309: RuntimeWarning: invalid value encountered in subtract\n",
      "  return reference._to_reduced_space(self._value - reference._value)\n",
      "/home/linuxbrew/.linuxbrew/Cellar/python@3.11/3.11.5/lib/python3.11/site-packages/nevergrad/parametrization/data.py:309: RuntimeWarning: invalid value encountered in subtract\n",
      "  return reference._to_reduced_space(self._value - reference._value)\n",
      "/home/linuxbrew/.linuxbrew/Cellar/python@3.11/3.11.5/lib/python3.11/site-packages/nevergrad/parametrization/data.py:309: RuntimeWarning: invalid value encountered in subtract\n",
      "  return reference._to_reduced_space(self._value - reference._value)\n",
      "/home/linuxbrew/.linuxbrew/Cellar/python@3.11/3.11.5/lib/python3.11/site-packages/nevergrad/parametrization/data.py:309: RuntimeWarning: invalid value encountered in subtract\n",
      "  return reference._to_reduced_space(self._value - reference._value)\n",
      "/home/linuxbrew/.linuxbrew/Cellar/python@3.11/3.11.5/lib/python3.11/site-packages/nevergrad/parametrization/data.py:309: RuntimeWarning: invalid value encountered in subtract\n",
      "  return reference._to_reduced_space(self._value - reference._value)\n",
      "/home/linuxbrew/.linuxbrew/Cellar/python@3.11/3.11.5/lib/python3.11/site-packages/nevergrad/parametrization/data.py:309: RuntimeWarning: invalid value encountered in subtract\n",
      "  return reference._to_reduced_space(self._value - reference._value)\n",
      "/home/linuxbrew/.linuxbrew/Cellar/python@3.11/3.11.5/lib/python3.11/site-packages/nevergrad/parametrization/data.py:309: RuntimeWarning: invalid value encountered in subtract\n",
      "  return reference._to_reduced_space(self._value - reference._value)\n",
      "/home/linuxbrew/.linuxbrew/Cellar/python@3.11/3.11.5/lib/python3.11/site-packages/nevergrad/parametrization/data.py:309: RuntimeWarning: invalid value encountered in subtract\n",
      "  return reference._to_reduced_space(self._value - reference._value)\n",
      "/home/linuxbrew/.linuxbrew/Cellar/python@3.11/3.11.5/lib/python3.11/site-packages/nevergrad/parametrization/data.py:309: RuntimeWarning: invalid value encountered in subtract\n",
      "  return reference._to_reduced_space(self._value - reference._value)\n",
      "/home/linuxbrew/.linuxbrew/Cellar/python@3.11/3.11.5/lib/python3.11/site-packages/nevergrad/parametrization/data.py:309: RuntimeWarning: invalid value encountered in subtract\n",
      "  return reference._to_reduced_space(self._value - reference._value)\n",
      "/home/linuxbrew/.linuxbrew/Cellar/python@3.11/3.11.5/lib/python3.11/site-packages/nevergrad/parametrization/data.py:309: RuntimeWarning: invalid value encountered in subtract\n",
      "  return reference._to_reduced_space(self._value - reference._value)\n",
      "/home/linuxbrew/.linuxbrew/Cellar/python@3.11/3.11.5/lib/python3.11/site-packages/nevergrad/parametrization/data.py:309: RuntimeWarning: invalid value encountered in subtract\n",
      "  return reference._to_reduced_space(self._value - reference._value)\n",
      "/home/linuxbrew/.linuxbrew/Cellar/python@3.11/3.11.5/lib/python3.11/site-packages/nevergrad/parametrization/data.py:309: RuntimeWarning: invalid value encountered in subtract\n",
      "  return reference._to_reduced_space(self._value - reference._value)\n",
      "/home/linuxbrew/.linuxbrew/Cellar/python@3.11/3.11.5/lib/python3.11/site-packages/nevergrad/parametrization/data.py:309: RuntimeWarning: invalid value encountered in subtract\n",
      "  return reference._to_reduced_space(self._value - reference._value)\n",
      "/home/linuxbrew/.linuxbrew/Cellar/python@3.11/3.11.5/lib/python3.11/site-packages/nevergrad/parametrization/data.py:309: RuntimeWarning: invalid value encountered in subtract\n",
      "  return reference._to_reduced_space(self._value - reference._value)\n",
      "/home/linuxbrew/.linuxbrew/Cellar/python@3.11/3.11.5/lib/python3.11/site-packages/nevergrad/parametrization/data.py:309: RuntimeWarning: invalid value encountered in subtract\n",
      "  return reference._to_reduced_space(self._value - reference._value)\n",
      "/home/linuxbrew/.linuxbrew/Cellar/python@3.11/3.11.5/lib/python3.11/site-packages/nevergrad/parametrization/data.py:309: RuntimeWarning: invalid value encountered in subtract\n",
      "  return reference._to_reduced_space(self._value - reference._value)\n",
      "/home/linuxbrew/.linuxbrew/Cellar/python@3.11/3.11.5/lib/python3.11/site-packages/nevergrad/parametrization/data.py:309: RuntimeWarning: invalid value encountered in subtract\n",
      "  return reference._to_reduced_space(self._value - reference._value)\n",
      "/home/linuxbrew/.linuxbrew/Cellar/python@3.11/3.11.5/lib/python3.11/site-packages/nevergrad/parametrization/data.py:309: RuntimeWarning: invalid value encountered in subtract\n",
      "  return reference._to_reduced_space(self._value - reference._value)\n",
      "/home/linuxbrew/.linuxbrew/Cellar/python@3.11/3.11.5/lib/python3.11/site-packages/nevergrad/parametrization/data.py:309: RuntimeWarning: invalid value encountered in subtract\n",
      "  return reference._to_reduced_space(self._value - reference._value)\n",
      "/home/linuxbrew/.linuxbrew/Cellar/python@3.11/3.11.5/lib/python3.11/site-packages/nevergrad/parametrization/data.py:309: RuntimeWarning: invalid value encountered in subtract\n",
      "  return reference._to_reduced_space(self._value - reference._value)\n",
      "/home/linuxbrew/.linuxbrew/Cellar/python@3.11/3.11.5/lib/python3.11/site-packages/nevergrad/parametrization/data.py:309: RuntimeWarning: invalid value encountered in subtract\n",
      "  return reference._to_reduced_space(self._value - reference._value)\n",
      "/home/linuxbrew/.linuxbrew/Cellar/python@3.11/3.11.5/lib/python3.11/site-packages/nevergrad/parametrization/data.py:309: RuntimeWarning: invalid value encountered in subtract\n",
      "  return reference._to_reduced_space(self._value - reference._value)\n",
      "/home/linuxbrew/.linuxbrew/Cellar/python@3.11/3.11.5/lib/python3.11/site-packages/nevergrad/parametrization/data.py:309: RuntimeWarning: invalid value encountered in subtract\n",
      "  return reference._to_reduced_space(self._value - reference._value)\n",
      "/home/linuxbrew/.linuxbrew/Cellar/python@3.11/3.11.5/lib/python3.11/site-packages/nevergrad/parametrization/data.py:309: RuntimeWarning: invalid value encountered in subtract\n",
      "  return reference._to_reduced_space(self._value - reference._value)\n",
      "/home/linuxbrew/.linuxbrew/Cellar/python@3.11/3.11.5/lib/python3.11/site-packages/nevergrad/parametrization/data.py:309: RuntimeWarning: invalid value encountered in subtract\n",
      "  return reference._to_reduced_space(self._value - reference._value)\n",
      "/home/linuxbrew/.linuxbrew/Cellar/python@3.11/3.11.5/lib/python3.11/site-packages/nevergrad/parametrization/data.py:309: RuntimeWarning: invalid value encountered in subtract\n",
      "  return reference._to_reduced_space(self._value - reference._value)\n",
      "/home/linuxbrew/.linuxbrew/Cellar/python@3.11/3.11.5/lib/python3.11/site-packages/nevergrad/parametrization/data.py:309: RuntimeWarning: invalid value encountered in subtract\n",
      "  return reference._to_reduced_space(self._value - reference._value)\n",
      "/home/linuxbrew/.linuxbrew/Cellar/python@3.11/3.11.5/lib/python3.11/site-packages/nevergrad/parametrization/data.py:309: RuntimeWarning: invalid value encountered in subtract\n",
      "  return reference._to_reduced_space(self._value - reference._value)\n",
      "/home/linuxbrew/.linuxbrew/Cellar/python@3.11/3.11.5/lib/python3.11/site-packages/nevergrad/parametrization/data.py:309: RuntimeWarning: invalid value encountered in subtract\n",
      "  return reference._to_reduced_space(self._value - reference._value)\n",
      "/home/linuxbrew/.linuxbrew/Cellar/python@3.11/3.11.5/lib/python3.11/site-packages/nevergrad/parametrization/data.py:309: RuntimeWarning: invalid value encountered in subtract\n",
      "  return reference._to_reduced_space(self._value - reference._value)\n",
      "/home/linuxbrew/.linuxbrew/Cellar/python@3.11/3.11.5/lib/python3.11/site-packages/nevergrad/parametrization/data.py:309: RuntimeWarning: invalid value encountered in subtract\n",
      "  return reference._to_reduced_space(self._value - reference._value)\n",
      "/home/linuxbrew/.linuxbrew/Cellar/python@3.11/3.11.5/lib/python3.11/site-packages/nevergrad/parametrization/data.py:309: RuntimeWarning: invalid value encountered in subtract\n",
      "  return reference._to_reduced_space(self._value - reference._value)\n",
      "/home/linuxbrew/.linuxbrew/Cellar/python@3.11/3.11.5/lib/python3.11/site-packages/nevergrad/parametrization/data.py:309: RuntimeWarning: invalid value encountered in subtract\n",
      "  return reference._to_reduced_space(self._value - reference._value)\n",
      "/home/linuxbrew/.linuxbrew/Cellar/python@3.11/3.11.5/lib/python3.11/site-packages/nevergrad/parametrization/data.py:309: RuntimeWarning: invalid value encountered in subtract\n",
      "  return reference._to_reduced_space(self._value - reference._value)\n"
     ]
    },
    {
     "data": {
      "text/html": [
       "<style>#sk-container-id-1 {color: black;}#sk-container-id-1 pre{padding: 0;}#sk-container-id-1 div.sk-toggleable {background-color: white;}#sk-container-id-1 label.sk-toggleable__label {cursor: pointer;display: block;width: 100%;margin-bottom: 0;padding: 0.3em;box-sizing: border-box;text-align: center;}#sk-container-id-1 label.sk-toggleable__label-arrow:before {content: \"▸\";float: left;margin-right: 0.25em;color: #696969;}#sk-container-id-1 label.sk-toggleable__label-arrow:hover:before {color: black;}#sk-container-id-1 div.sk-estimator:hover label.sk-toggleable__label-arrow:before {color: black;}#sk-container-id-1 div.sk-toggleable__content {max-height: 0;max-width: 0;overflow: hidden;text-align: left;background-color: #f0f8ff;}#sk-container-id-1 div.sk-toggleable__content pre {margin: 0.2em;color: black;border-radius: 0.25em;background-color: #f0f8ff;}#sk-container-id-1 input.sk-toggleable__control:checked~div.sk-toggleable__content {max-height: 200px;max-width: 100%;overflow: auto;}#sk-container-id-1 input.sk-toggleable__control:checked~label.sk-toggleable__label-arrow:before {content: \"▾\";}#sk-container-id-1 div.sk-estimator input.sk-toggleable__control:checked~label.sk-toggleable__label {background-color: #d4ebff;}#sk-container-id-1 div.sk-label input.sk-toggleable__control:checked~label.sk-toggleable__label {background-color: #d4ebff;}#sk-container-id-1 input.sk-hidden--visually {border: 0;clip: rect(1px 1px 1px 1px);clip: rect(1px, 1px, 1px, 1px);height: 1px;margin: -1px;overflow: hidden;padding: 0;position: absolute;width: 1px;}#sk-container-id-1 div.sk-estimator {font-family: monospace;background-color: #f0f8ff;border: 1px dotted black;border-radius: 0.25em;box-sizing: border-box;margin-bottom: 0.5em;}#sk-container-id-1 div.sk-estimator:hover {background-color: #d4ebff;}#sk-container-id-1 div.sk-parallel-item::after {content: \"\";width: 100%;border-bottom: 1px solid gray;flex-grow: 1;}#sk-container-id-1 div.sk-label:hover label.sk-toggleable__label {background-color: #d4ebff;}#sk-container-id-1 div.sk-serial::before {content: \"\";position: absolute;border-left: 1px solid gray;box-sizing: border-box;top: 0;bottom: 0;left: 50%;z-index: 0;}#sk-container-id-1 div.sk-serial {display: flex;flex-direction: column;align-items: center;background-color: white;padding-right: 0.2em;padding-left: 0.2em;position: relative;}#sk-container-id-1 div.sk-item {position: relative;z-index: 1;}#sk-container-id-1 div.sk-parallel {display: flex;align-items: stretch;justify-content: center;background-color: white;position: relative;}#sk-container-id-1 div.sk-item::before, #sk-container-id-1 div.sk-parallel-item::before {content: \"\";position: absolute;border-left: 1px solid gray;box-sizing: border-box;top: 0;bottom: 0;left: 50%;z-index: -1;}#sk-container-id-1 div.sk-parallel-item {display: flex;flex-direction: column;z-index: 1;position: relative;background-color: white;}#sk-container-id-1 div.sk-parallel-item:first-child::after {align-self: flex-end;width: 50%;}#sk-container-id-1 div.sk-parallel-item:last-child::after {align-self: flex-start;width: 50%;}#sk-container-id-1 div.sk-parallel-item:only-child::after {width: 0;}#sk-container-id-1 div.sk-dashed-wrapped {border: 1px dashed gray;margin: 0 0.4em 0.5em 0.4em;box-sizing: border-box;padding-bottom: 0.4em;background-color: white;}#sk-container-id-1 div.sk-label label {font-family: monospace;font-weight: bold;display: inline-block;line-height: 1.2em;}#sk-container-id-1 div.sk-label-container {text-align: center;}#sk-container-id-1 div.sk-container {/* jupyter's `normalize.less` sets `[hidden] { display: none; }` but bootstrap.min.css set `[hidden] { display: none !important; }` so we also need the `!important` here to be able to override the default hidden behavior on the sphinx rendered scikit-learn.org. See: https://github.com/scikit-learn/scikit-learn/issues/21755 */display: inline-block !important;position: relative;}#sk-container-id-1 div.sk-text-repr-fallback {display: none;}</style><div id=\"sk-container-id-1\" class=\"sk-top-container\"><div class=\"sk-text-repr-fallback\"><pre>RandomForestClassifier(criterion=&#x27;log_loss&#x27;, max_depth=22, max_leaf_nodes=39,\n",
       "                       min_samples_leaf=6, min_samples_split=6,\n",
       "                       min_weight_fraction_leaf=0.00020461588905060978,\n",
       "                       n_estimators=805, random_state=87)</pre><b>In a Jupyter environment, please rerun this cell to show the HTML representation or trust the notebook. <br />On GitHub, the HTML representation is unable to render, please try loading this page with nbviewer.org.</b></div><div class=\"sk-container\" hidden><div class=\"sk-item\"><div class=\"sk-estimator sk-toggleable\"><input class=\"sk-toggleable__control sk-hidden--visually\" id=\"sk-estimator-id-1\" type=\"checkbox\" checked><label for=\"sk-estimator-id-1\" class=\"sk-toggleable__label sk-toggleable__label-arrow\">RandomForestClassifier</label><div class=\"sk-toggleable__content\"><pre>RandomForestClassifier(criterion=&#x27;log_loss&#x27;, max_depth=22, max_leaf_nodes=39,\n",
       "                       min_samples_leaf=6, min_samples_split=6,\n",
       "                       min_weight_fraction_leaf=0.00020461588905060978,\n",
       "                       n_estimators=805, random_state=87)</pre></div></div></div></div></div>"
      ],
      "text/plain": [
       "RandomForestClassifier(criterion='log_loss', max_depth=22, max_leaf_nodes=39,\n",
       "                       min_samples_leaf=6, min_samples_split=6,\n",
       "                       min_weight_fraction_leaf=0.00020461588905060978,\n",
       "                       n_estimators=805, random_state=87)"
      ]
     },
     "execution_count": 6,
     "metadata": {},
     "output_type": "execute_result"
    }
   ],
   "source": [
    "from sklearn.ensemble import RandomForestClassifier\n",
    "from sklearn.model_selection import cross_val_score\n",
    "import nevergrad as ng\n",
    "from sklearn.metrics import f1_score\n",
    "\n",
    "\n",
    "\n",
    "X_train, X_test, y_train, y_test = train_test_split(x_train_preprocessed, labels, test_size=0.2, random_state=42)\n",
    "\n",
    "# Define the objective function for Nevergrad optimization\n",
    "def objective_function(hyperparameters):\n",
    "    # Create and train the LGBM model\n",
    "    model = RandomForestClassifier(\n",
    "        n_estimators=int(hyperparameters[\"n_estimators\"]),\n",
    "        criterion=hyperparameters[\"criterion\"],\n",
    "        max_leaf_nodes=hyperparameters[\"max_leaf_nodes\"],\n",
    "        max_depth=int(hyperparameters[\"max_depth\"]),\n",
    "        max_features=hyperparameters[\"max_features\"],\n",
    "        min_samples_split=hyperparameters[\"min_samples_split\"],\n",
    "        min_samples_leaf=hyperparameters[\"min_samples_leaf\"],\n",
    "        min_weight_fraction_leaf=hyperparameters[\"min_weight_fraction_leaf\"],\n",
    "        min_impurity_decrease=hyperparameters[\"min_impurity_decrease\"],\n",
    "        random_state=hyperparameters[\"random_state\"],\n",
    "        n_jobs=-1\n",
    "    )\n",
    "    model.fit(X_train, y_train)\n",
    "    preds = model.predict(X_test)\n",
    "    \n",
    "    # Use accuracy as the performance metric\n",
    "    return -f1_score(y_test, preds, average='micro')  # Negative because Nevergrad minimizes the objective function\n",
    "\n",
    "# Set up the Nevergrad optimizer\n",
    "parametrization = ng.p.Dict(\n",
    "    n_estimators=ng.p.Scalar(lower=100, upper=1000).set_integer_casting(),\n",
    "    criterion=ng.p.Choice([\"gini\", \"entropy\", 'log_loss']),\n",
    "    max_leaf_nodes=ng.p.Scalar(lower=10, upper=100).set_integer_casting(),\n",
    "    max_depth=ng.p.Scalar(lower=1, upper=50).set_integer_casting(),\n",
    "    max_features=ng.p.Choice(['sqrt', 'log2']),\n",
    "    min_samples_split=ng.p.Scalar(lower=2, upper=10).set_integer_casting(),\n",
    "    min_samples_leaf=ng.p.Scalar(lower=1, upper=10).set_integer_casting(),\n",
    "    min_weight_fraction_leaf=ng.p.Log(lower=0.0001, upper=0.5),\n",
    "    min_impurity_decrease=ng.p.Log(init=0),\n",
    "    random_state=ng.p.Scalar(lower=0, upper=100).set_integer_casting()\n",
    ")\n",
    "optimizer = ng.optimizers.OnePlusOne(parametrization=parametrization, budget=100)\n",
    "\n",
    "# Run the optimization\n",
    "recommendation = optimizer.minimize(objective_function)\n",
    "\n",
    "# Train the final model with optimized hyperparameters\n",
    "best_hyperparams = recommendation.value\n",
    "final_model = RandomForestClassifier(**best_hyperparams)\n",
    "final_model.fit(X_train, y_train)\n",
    "\n",
    "# Now, final_model is your trained model with optimized hyperparameters"
   ]
  },
  {
   "cell_type": "code",
   "execution_count": 7,
   "metadata": {},
   "outputs": [
    {
     "data": {
      "text/plain": [
       "0.822265625"
      ]
     },
     "execution_count": 7,
     "metadata": {},
     "output_type": "execute_result"
    }
   ],
   "source": [
    "# Predict the test set\n",
    "y_pred = final_model.predict(X_test)\n",
    "f1 = f1_score(y_test, y_pred, average='micro')\n",
    "f1"
   ]
  },
  {
   "cell_type": "code",
   "execution_count": 8,
   "id": "2ffc057a",
   "metadata": {},
   "outputs": [
    {
     "name": "stdout",
     "output_type": "stream",
     "text": [
      "Meilleurs hyperparamètres trouvés: {'n_estimators': 805, 'criterion': 'log_loss', 'max_leaf_nodes': 39, 'max_depth': 22, 'max_features': 'sqrt', 'min_samples_split': 6, 'min_samples_leaf': 6, 'min_weight_fraction_leaf': 0.00020461588905060978, 'min_impurity_decrease': 0.0, 'random_state': 87}\n"
     ]
    }
   ],
   "source": [
    "print(\"Meilleurs hyperparamètres trouvés:\", best_hyperparams)"
   ]
  },
  {
   "cell_type": "code",
   "execution_count": 9,
   "id": "7e53928e",
   "metadata": {},
   "outputs": [
    {
     "name": "stdout",
     "output_type": "stream",
     "text": [
      "<class 'pandas.core.frame.DataFrame'>\n"
     ]
    }
   ],
   "source": [
    "print(type(x_test_preprocessed))"
   ]
  },
  {
   "cell_type": "code",
   "execution_count": 10,
   "metadata": {},
   "outputs": [
    {
     "data": {
      "text/plain": [
       "<pandas.core.indexing._LocIndexer at 0x7f1a9f84d310>"
      ]
     },
     "execution_count": 10,
     "metadata": {},
     "output_type": "execute_result"
    }
   ],
   "source": [
    "x_test_preprocessed.loc"
   ]
  },
  {
   "cell_type": "code",
   "execution_count": 41,
   "id": "43931225",
   "metadata": {},
   "outputs": [
    {
     "name": "stderr",
     "output_type": "stream",
     "text": [
      "/Users/youssefraoui/miniconda3/envs/Test/lib/python3.8/site-packages/sklearn/base.py:432: UserWarning: X has feature names, but RandomForestClassifier was fitted without feature names\n",
      "  warnings.warn(\n"
     ]
    }
   ],
   "source": [
    "\n",
    "# Assuming final_model is already trained\n",
    "y_pred = final_model.predict(x_test_preprocessed)\n",
    "\n",
    "# Creating a DataFrame to store results\n",
    "out = pd.DataFrame(index=x_test_preprocessed.index, columns=['id', 'y'])\n",
    "out['id'] = x_test_preprocessed.iloc[:, 0].astype(int)\n",
    "  # Assuming 'id' is at index 0 in x_test_preprocessed and converting to int\n",
    "out['y'] = y_pred\n",
    "\n",
    "# Change the first element in the 'id' column to 'Id'\n",
    "out.at[out.index[0], 'id'] = 'Id'\n",
    "\n",
    "# Saving the DataFrame to a CSV file\n",
    "out.to_csv(\"out.csv\", index=False)  # Set index=False to exclude row indices in the CSV file\n"
   ]
  }
 ],
 "metadata": {
  "kernelspec": {
   "display_name": "Python 3 (ipykernel)",
   "language": "python",
   "name": "python3"
  },
  "language_info": {
   "codemirror_mode": {
    "name": "ipython",
    "version": 3
   },
   "file_extension": ".py",
   "mimetype": "text/x-python",
   "name": "python",
   "nbconvert_exporter": "python",
   "pygments_lexer": "ipython3",
   "version": "3.11.5"
  }
 },
 "nbformat": 4,
 "nbformat_minor": 5
}
